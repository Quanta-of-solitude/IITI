{
 "cells": [
  {
   "cell_type": "code",
   "execution_count": null,
   "metadata": {},
   "outputs": [],
   "source": [
    "from mtcnn.mtcnn import MTCNN\n",
    "import cv2"
   ]
  },
  {
   "cell_type": "code",
   "execution_count": null,
   "metadata": {},
   "outputs": [],
   "source": [
    "detector = MTCNN()\n",
    "rgb = cv2.VideoCapture(0)\n",
    "\n",
    "\n",
    "\n",
    "ix=0\n",
    "\n",
    "while True:\n",
    "    ix +=1\n",
    "    _,fr = rgb.read()\n",
    "    faces = detector.detect_faces(fr)\n",
    "    for face in faces:\n",
    "        #print(face)\n",
    "        roi = cv2.resize(fr,(48,48))\n",
    "        x, y, width, height = face['box']\n",
    "        x2, y2 = x + width, y + height\n",
    "        cv2.rectangle(fr,(x,y),(x2,y2),(255,0,0),2)\n",
    "    if cv2.waitKey(1) == 27:\n",
    "        break\n",
    "    cv2.imshow('Filter', fr)\n",
    "cv2.destroyAllWindows()"
   ]
  },
  {
   "cell_type": "code",
   "execution_count": null,
   "metadata": {},
   "outputs": [],
   "source": []
  }
 ],
 "metadata": {
  "kernelspec": {
   "display_name": "Python 3",
   "language": "python3",
   "name": "python3"
  },
  "language_info": {
   "codemirror_mode": {
    "name": "ipython",
    "version": 3
   },
   "file_extension": ".py",
   "mimetype": "text/x-python",
   "name": "python",
   "nbconvert_exporter": "python",
   "pygments_lexer": "ipython3",
   "version": "3.7.5"
  }
 },
 "nbformat": 4,
 "nbformat_minor": 2
}
