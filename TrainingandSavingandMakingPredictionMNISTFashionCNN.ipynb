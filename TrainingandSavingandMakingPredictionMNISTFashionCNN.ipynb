{
  "nbformat": 4,
  "nbformat_minor": 0,
  "metadata": {
    "colab": {
      "name": "Untitled1.ipynb",
      "provenance": [],
      "authorship_tag": "ABX9TyN74NWwzO4NFe2Xt+QDV+zt",
      "include_colab_link": true
    },
    "kernelspec": {
      "name": "python3",
      "display_name": "Python 3"
    }
  },
  "cells": [
    {
      "cell_type": "markdown",
      "metadata": {
        "id": "view-in-github",
        "colab_type": "text"
      },
      "source": [
        "<a href=\"https://colab.research.google.com/github/Quanta-of-solitude/IITI/blob/master/TrainingandSavingandMakingPredictionMNISTFashionCNN.ipynb\" target=\"_parent\"><img src=\"https://colab.research.google.com/assets/colab-badge.svg\" alt=\"Open In Colab\"/></a>"
      ]
    },
    {
      "cell_type": "code",
      "metadata": {
        "id": "9Frx6cdfi7q5",
        "colab_type": "code",
        "colab": {}
      },
      "source": [
        "from google.colab import drive\n",
        "drive.mount('/content/drive')"
      ],
      "execution_count": 0,
      "outputs": []
    },
    {
      "cell_type": "code",
      "metadata": {
        "id": "BMyVWFJ-iLaM",
        "colab_type": "code",
        "colab": {}
      },
      "source": [
        "# fit a cnn on the fashion mnist dataset\n",
        "from keras.datasets import fashion_mnist\n",
        "from keras.utils import to_categorical\n",
        "from keras.models import Sequential\n",
        "from keras.layers import Conv2D\n",
        "from keras.layers import MaxPooling2D\n",
        "from keras.layers import Dense\n",
        "from keras.layers import Flatten\n",
        "# load dataset\n",
        "(trainX, trainY), (testX, testY) = fashion_mnist.load_data()\n",
        "# reshape dataset to have a single channel\n",
        "trainX = trainX.reshape((trainX.shape[0], 28, 28, 1))\n",
        "testX = testX.reshape((testX.shape[0], 28, 28, 1))\n",
        "# convert from integers to floats\n",
        "trainX, testX = trainX.astype('float32'), testX.astype('float32')\n",
        "# normalize to range 0-1\n",
        "trainX,testX = trainX / 255.0, testX / 255.0\n",
        "# one hot encode target values\n",
        "trainY, testY = to_categorical(trainY), to_categorical(testY)\n",
        "# define model\n",
        "model = Sequential()\n",
        "model.add(Conv2D(32, (3, 3), activation='relu', kernel_initializer='he_uniform',\n",
        "input_shape=(28, 28, 1)))\n",
        "model.add(MaxPooling2D())\n",
        "model.add(Flatten())\n",
        "model.add(Dense(100, activation='relu', kernel_initializer='he_uniform'))\n",
        "model.add(Dense(10, activation='softmax'))\n",
        "model.compile(optimizer='adam', loss='categorical_crossentropy',\n",
        "metrics=['accuracy'])\n",
        "# fit model\n",
        "model.fit(trainX, trainY, epochs=10, batch_size=32, verbose=2)\n",
        "#save model\n",
        "#mode.save(\"assignment-mnist.h5\")\n",
        "#load saved model\n",
        "#model.load_weights(\"assignment-mnist.h5\")\n",
        "# evaluate model\n",
        "loss, acc = model.evaluate(testX, testY, verbose=0)\n",
        "print(loss, acc)\n"
      ],
      "execution_count": 0,
      "outputs": []
    },
    {
      "cell_type": "code",
      "metadata": {
        "id": "owbieHA9inFw",
        "colab_type": "code",
        "colab": {}
      },
      "source": [
        "from keras.preprocessing import image\n",
        "img_test = image.load_img('/content/drive/My Drive/imagesforcnn/smallfashion.png', grayscale=True,target_size=(28, 28))\n",
        "img_test = image.img_to_array(img_test) \n",
        "img_test = img_test.reshape((1, 28,28,1))\n",
        "img_test = img_test.astype('float32')\n",
        "img_test = img_test/255.0\n",
        "prediction_class = model.predict_classes(img_test)\n",
        "print(prediction_class)"
      ],
      "execution_count": 0,
      "outputs": []
    },
    {
      "cell_type": "code",
      "metadata": {
        "id": "LsrpLSrDksn3",
        "colab_type": "code",
        "colab": {}
      },
      "source": [
        ""
      ],
      "execution_count": 0,
      "outputs": []
    }
  ]
}