{
 "cells": [
  {
   "cell_type": "code",
   "execution_count": null,
   "metadata": {},
   "outputs": [],
   "source": [
    "#model training and saving for digit Recognition\n",
    "#IITI MNIST From Images\n",
    "#SKB, Nyzex 2019"
   ]
  },
  {
   "cell_type": "code",
   "execution_count": null,
   "metadata": {},
   "outputs": [],
   "source": [
    "import numpy as np\n",
    "from keras.models import Sequential\n",
    "from keras.layers import Conv2D\n",
    "from keras.layers import MaxPooling2D\n",
    "from keras.layers import Flatten\n",
    "from keras.layers import Dense\n",
    "from keras.preprocessing import image\n",
    "from keras.preprocessing.image import ImageDataGenerator"
   ]
  },
  {
   "cell_type": "code",
   "execution_count": null,
   "metadata": {},
   "outputs": [],
   "source": [
    "#initializing the model\n",
    "classifier = Sequential()\n",
    "\n",
    "#conv 1\n",
    "classifier.add(Conv2D(32,(3,3),input_shape=(28,28,3),activation=\"relu\"))\n",
    "classifier.add(MaxPooling2D(2,2))\n",
    "\n",
    "#conv2\n",
    "classifier.add(Conv2D(32,(3,3),activation=\"relu\"))\n",
    "classifier.add(MaxPooling2D(2,2))\n",
    "\n",
    "classifier.add(Flatten())\n",
    "\n",
    "#full connection1\n",
    "classifier.add(Dense(output_dim=128,activation=\"relu\"))\n",
    "\n",
    "#full connecction 2\n",
    "classifier.add(Dense(output_dim=200,activation=\"relu\"))\n",
    "\n",
    "\n",
    "#output layer\n",
    "classifier.add(Dense(output_dim=10,activation=\"softmax\"))\n",
    "classifier.compile(optimizer='adam',loss='categorical_crossentropy',metrics = ['accuracy'])\n"
   ]
  },
  {
   "cell_type": "code",
   "execution_count": null,
   "metadata": {},
   "outputs": [],
   "source": [
    "train_datagen = ImageDataGenerator(\n",
    "        rescale=1./255,\n",
    "        shear_range=0.2,\n",
    "        zoom_range=0.2,\n",
    "        horizontal_flip=True)\n",
    "\n",
    "test_datagen = ImageDataGenerator(rescale=1./255)\n",
    "\n",
    "training_set = train_datagen.flow_from_directory(\n",
    "        'MNIST/training',\n",
    "        target_size=(28, 28),\n",
    "        batch_size=32,\n",
    "        class_mode='categorical')\n",
    "\n",
    "test_set = test_datagen.flow_from_directory(\n",
    "        'MNIST/testing',\n",
    "        target_size=(28, 28),\n",
    "        batch_size=32,\n",
    "        class_mode='categorical')\n",
    "\n",
    "#fitting the model\n",
    "classifier.fit_generator(\n",
    "        training_set,\n",
    "        steps_per_epoch=300,\n",
    "        epochs=20,\n",
    "        validation_data=test_set,\n",
    "        validation_steps=10000)"
   ]
  },
  {
   "cell_type": "code",
   "execution_count": null,
   "metadata": {},
   "outputs": [],
   "source": [
    "classifier.save(\"IITI_MNIST_skb.h5\")\n",
    "classifier_json = classifier.to_json()\n",
    "with open(\"iiti_mnist_skb.json\", \"w\") as f:\n",
    "    f.write(classifier_json)"
   ]
  },
  {
   "cell_type": "code",
   "execution_count": null,
   "metadata": {},
   "outputs": [],
   "source": [
    "#Model is saved\n",
    "#To load model we use:\n",
    "#classifier=load_model(\"IITI_MNIST_skb.h5\")"
   ]
  },
  {
   "cell_type": "code",
   "execution_count": null,
   "metadata": {},
   "outputs": [],
   "source": [
    "#loading my test image\n",
    "\n",
    "hand_Written = image.load_img(\"handwritten.jpg\", target_size=(28,28))\n",
    "hand_Written = image.img_to_array(hand_Written)\n",
    "hand_Written = np.expand_dims(hand_Written,axis=0)"
   ]
  },
  {
   "cell_type": "raw",
   "metadata": {},
   "source": []
  },
  {
   "cell_type": "code",
   "execution_count": null,
   "metadata": {},
   "outputs": [],
   "source": [
    "result = classifier.predict_classes(hand_Written)\n",
    "print(result[0])"
   ]
  },
  {
   "cell_type": "code",
   "execution_count": null,
   "metadata": {},
   "outputs": [],
   "source": [
    "training_set.class_indices #get the classes from the training set"
   ]
  },
  {
   "cell_type": "code",
   "execution_count": null,
   "metadata": {},
   "outputs": [],
   "source": [
    "#To get which digit it is we can use:\n",
    "\n",
    "print(\"The digit is: \",training_set.class_indices[f\"{result[0]}\"])"
   ]
  }
 ],
 "metadata": {
  "kernelspec": {
   "display_name": "Python 3",
   "language": "python3",
   "name": "python3"
  },
  "language_info": {
   "codemirror_mode": {
    "name": "ipython",
    "version": 3
   },
   "file_extension": ".py",
   "mimetype": "text/x-python",
   "name": "python",
   "nbconvert_exporter": "python",
   "pygments_lexer": "ipython3",
   "version": "3.7.5"
  }
 },
 "nbformat": 4,
 "nbformat_minor": 2
}
