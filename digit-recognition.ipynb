{
 "cells": [
  {
   "cell_type": "code",
   "execution_count": 1,
   "metadata": {},
   "outputs": [],
   "source": [
    "#model training and saving for digit Recognition\n",
    "#IITI MNIST From Images\n",
    "#SKB, Nyzex 2019"
   ]
  },
  {
   "cell_type": "code",
   "execution_count": 2,
   "metadata": {},
   "outputs": [
    {
     "name": "stderr",
     "output_type": "stream",
     "text": [
      "Using TensorFlow backend.\n"
     ]
    }
   ],
   "source": [
    "import numpy as np\n",
    "from keras.models import Sequential\n",
    "from keras.layers import Conv2D\n",
    "from keras.layers import MaxPooling2D\n",
    "from keras.layers import Flatten\n",
    "from keras.layers import Dense\n",
    "from keras.preprocessing import image\n",
    "from keras.preprocessing.image import ImageDataGenerator"
   ]
  },
  {
   "cell_type": "code",
   "execution_count": 3,
   "metadata": {},
   "outputs": [
    {
     "name": "stdout",
     "output_type": "stream",
     "text": [
      "WARNING:tensorflow:From /usr/local/lib/python3.7/dist-packages/keras/backend/tensorflow_backend.py:68: The name tf.get_default_graph is deprecated. Please use tf.compat.v1.get_default_graph instead.\n",
      "\n",
      "WARNING:tensorflow:From /usr/local/lib/python3.7/dist-packages/keras/backend/tensorflow_backend.py:504: The name tf.placeholder is deprecated. Please use tf.compat.v1.placeholder instead.\n",
      "\n",
      "WARNING:tensorflow:From /usr/local/lib/python3.7/dist-packages/keras/backend/tensorflow_backend.py:3828: The name tf.random_uniform is deprecated. Please use tf.random.uniform instead.\n",
      "\n",
      "WARNING:tensorflow:From /usr/local/lib/python3.7/dist-packages/keras/backend/tensorflow_backend.py:3652: The name tf.nn.max_pool is deprecated. Please use tf.nn.max_pool2d instead.\n",
      "\n",
      "WARNING:tensorflow:From /usr/local/lib/python3.7/dist-packages/keras/optimizers.py:744: The name tf.train.Optimizer is deprecated. Please use tf.compat.v1.train.Optimizer instead.\n",
      "\n",
      "WARNING:tensorflow:From /usr/local/lib/python3.7/dist-packages/keras/backend/tensorflow_backend.py:3005: The name tf.log is deprecated. Please use tf.math.log instead.\n",
      "\n"
     ]
    },
    {
     "name": "stderr",
     "output_type": "stream",
     "text": [
      "/usr/local/lib/python3.7/dist-packages/ipykernel_launcher.py:15: UserWarning: Update your `Dense` call to the Keras 2 API: `Dense(activation=\"relu\", units=128)`\n",
      "  from ipykernel import kernelapp as app\n",
      "/usr/local/lib/python3.7/dist-packages/ipykernel_launcher.py:18: UserWarning: Update your `Dense` call to the Keras 2 API: `Dense(activation=\"relu\", units=200)`\n",
      "/usr/local/lib/python3.7/dist-packages/ipykernel_launcher.py:22: UserWarning: Update your `Dense` call to the Keras 2 API: `Dense(activation=\"softmax\", units=10)`\n"
     ]
    }
   ],
   "source": [
    "#initializing the model\n",
    "classifier = Sequential()\n",
    "\n",
    "#conv 1\n",
    "classifier.add(Conv2D(32,(3,3),input_shape=(28,28,3),activation=\"relu\"))\n",
    "classifier.add(MaxPooling2D(2,2))\n",
    "\n",
    "#conv2\n",
    "classifier.add(Conv2D(32,(3,3),activation=\"relu\"))\n",
    "classifier.add(MaxPooling2D(2,2))\n",
    "\n",
    "classifier.add(Flatten())\n",
    "\n",
    "#full connection1\n",
    "classifier.add(Dense(output_dim=128,activation=\"relu\"))\n",
    "\n",
    "#full connecction 2\n",
    "classifier.add(Dense(output_dim=200,activation=\"relu\"))\n",
    "\n",
    "\n",
    "#output layer\n",
    "classifier.add(Dense(output_dim=10,activation=\"softmax\"))\n",
    "classifier.compile(optimizer='adam',loss='categorical_crossentropy',metrics = ['accuracy'])\n"
   ]
  },
  {
   "cell_type": "code",
   "execution_count": 4,
   "metadata": {},
   "outputs": [
    {
     "name": "stdout",
     "output_type": "stream",
     "text": [
      "Found 60000 images belonging to 10 classes.\n",
      "Found 10000 images belonging to 10 classes.\n",
      "WARNING:tensorflow:From /usr/local/lib/python3.7/dist-packages/tensorflow/python/ops/math_grad.py:1250: add_dispatch_support.<locals>.wrapper (from tensorflow.python.ops.array_ops) is deprecated and will be removed in a future version.\n",
      "Instructions for updating:\n",
      "Use tf.where in 2.0, which has the same broadcast rule as np.where\n",
      "WARNING:tensorflow:From /usr/local/lib/python3.7/dist-packages/keras/backend/tensorflow_backend.py:973: The name tf.assign_add is deprecated. Please use tf.compat.v1.assign_add instead.\n",
      "\n",
      "Epoch 1/20\n",
      "300/300 [==============================] - 71s 237ms/step - loss: 0.6716 - acc: 0.7772 - val_loss: 0.2718 - val_acc: 0.9199\n",
      "Epoch 2/20\n",
      "300/300 [==============================] - 68s 227ms/step - loss: 0.2654 - acc: 0.9163 - val_loss: 0.1590 - val_acc: 0.9477\n",
      "Epoch 3/20\n",
      "300/300 [==============================] - 68s 226ms/step - loss: 0.1828 - acc: 0.9389 - val_loss: 0.1226 - val_acc: 0.9594\n",
      "Epoch 4/20\n",
      "300/300 [==============================] - 68s 226ms/step - loss: 0.1751 - acc: 0.9444 - val_loss: 0.1005 - val_acc: 0.9674\n",
      "Epoch 5/20\n",
      "300/300 [==============================] - 67s 223ms/step - loss: 0.1308 - acc: 0.9581 - val_loss: 0.0879 - val_acc: 0.9723\n",
      "Epoch 6/20\n",
      "300/300 [==============================] - 67s 224ms/step - loss: 0.1220 - acc: 0.9621 - val_loss: 0.0815 - val_acc: 0.9735\n",
      "Epoch 7/20\n",
      "300/300 [==============================] - 68s 226ms/step - loss: 0.1177 - acc: 0.9620 - val_loss: 0.0667 - val_acc: 0.9793\n",
      "Epoch 8/20\n",
      "300/300 [==============================] - 67s 224ms/step - loss: 0.1069 - acc: 0.9678 - val_loss: 0.0694 - val_acc: 0.9778\n",
      "Epoch 9/20\n",
      "300/300 [==============================] - 67s 223ms/step - loss: 0.0969 - acc: 0.9695 - val_loss: 0.0763 - val_acc: 0.9757\n",
      "Epoch 10/20\n",
      "300/300 [==============================] - 67s 225ms/step - loss: 0.0971 - acc: 0.9706 - val_loss: 0.0819 - val_acc: 0.9734\n",
      "Epoch 11/20\n",
      "300/300 [==============================] - 68s 226ms/step - loss: 0.0924 - acc: 0.9703 - val_loss: 0.0684 - val_acc: 0.9783\n",
      "Epoch 12/20\n",
      "300/300 [==============================] - 67s 223ms/step - loss: 0.0860 - acc: 0.9701 - val_loss: 0.0598 - val_acc: 0.9801\n",
      "Epoch 13/20\n",
      "300/300 [==============================] - 67s 223ms/step - loss: 0.0825 - acc: 0.9751 - val_loss: 0.0561 - val_acc: 0.9808\n",
      "Epoch 14/20\n",
      "300/300 [==============================] - 67s 222ms/step - loss: 0.0847 - acc: 0.9747 - val_loss: 0.0493 - val_acc: 0.9842\n",
      "Epoch 15/20\n",
      "300/300 [==============================] - 67s 225ms/step - loss: 0.0790 - acc: 0.9748 - val_loss: 0.0541 - val_acc: 0.9824\n",
      "Epoch 16/20\n",
      "300/300 [==============================] - 67s 223ms/step - loss: 0.0821 - acc: 0.9726 - val_loss: 0.0451 - val_acc: 0.9846\n",
      "Epoch 17/20\n",
      "300/300 [==============================] - 67s 224ms/step - loss: 0.0786 - acc: 0.9756 - val_loss: 0.0463 - val_acc: 0.9858\n",
      "Epoch 18/20\n",
      "300/300 [==============================] - 67s 223ms/step - loss: 0.0654 - acc: 0.9780 - val_loss: 0.0513 - val_acc: 0.9826\n",
      "Epoch 19/20\n",
      "300/300 [==============================] - 68s 225ms/step - loss: 0.0753 - acc: 0.9773 - val_loss: 0.0584 - val_acc: 0.9812\n",
      "Epoch 20/20\n",
      "300/300 [==============================] - 67s 223ms/step - loss: 0.0671 - acc: 0.9786 - val_loss: 0.0489 - val_acc: 0.9837\n"
     ]
    },
    {
     "data": {
      "text/plain": [
       "<keras.callbacks.History at 0x7f6058747c50>"
      ]
     },
     "execution_count": 4,
     "metadata": {},
     "output_type": "execute_result"
    }
   ],
   "source": [
    "train_datagen = ImageDataGenerator(\n",
    "        rescale=1./255,\n",
    "        shear_range=0.2,\n",
    "        zoom_range=0.2,\n",
    "        horizontal_flip=True)\n",
    "\n",
    "test_datagen = ImageDataGenerator(rescale=1./255)\n",
    "\n",
    "training_set = train_datagen.flow_from_directory(\n",
    "        'MNIST/training',\n",
    "        target_size=(28, 28),\n",
    "        batch_size=32,\n",
    "        class_mode='categorical')\n",
    "\n",
    "test_set = test_datagen.flow_from_directory(\n",
    "        'MNIST/testing',\n",
    "        target_size=(28, 28),\n",
    "        batch_size=32,\n",
    "        class_mode='categorical')\n",
    "\n",
    "#fitting the model\n",
    "classifier.fit_generator(\n",
    "        training_set,\n",
    "        steps_per_epoch=300,\n",
    "        epochs=20,\n",
    "        validation_data=test_set,\n",
    "        validation_steps=10000)"
   ]
  },
  {
   "cell_type": "code",
   "execution_count": 5,
   "metadata": {},
   "outputs": [],
   "source": [
    "classifier.save(\"IITI_MNIST_skb.h5\")\n",
    "classifier_json = classifier.to_json()\n",
    "with open(\"iiti_mnist_skb.json\", \"w\") as f:\n",
    "    f.write(classifier_json)"
   ]
  },
  {
   "cell_type": "code",
   "execution_count": 6,
   "metadata": {},
   "outputs": [],
   "source": [
    "#Model is saved\n",
    "#To load model we use:\n",
    "#classifier=load_model(\"IITI_MNIST_skb.h5\")"
   ]
  },
  {
   "cell_type": "code",
   "execution_count": 7,
   "metadata": {},
   "outputs": [],
   "source": [
    "#loading my test image\n",
    "\n",
    "hand_Written = image.load_img(\"handwritten.jpg\", target_size=(28,28))\n",
    "hand_Written = image.img_to_array(hand_Written)\n",
    "hand_Written = np.expand_dims(hand_Written,axis=0)"
   ]
  },
  {
   "cell_type": "raw",
   "metadata": {},
   "source": []
  },
  {
   "cell_type": "code",
   "execution_count": 8,
   "metadata": {},
   "outputs": [
    {
     "name": "stdout",
     "output_type": "stream",
     "text": [
      "0\n"
     ]
    }
   ],
   "source": [
    "result = classifier.predict_classes(hand_Written)\n",
    "print(result[0])"
   ]
  },
  {
   "cell_type": "code",
   "execution_count": 9,
   "metadata": {},
   "outputs": [
    {
     "data": {
      "text/plain": [
       "{'0': 0,\n",
       " '1': 1,\n",
       " '2': 2,\n",
       " '3': 3,\n",
       " '4': 4,\n",
       " '5': 5,\n",
       " '6': 6,\n",
       " '7': 7,\n",
       " '8': 8,\n",
       " '9': 9}"
      ]
     },
     "execution_count": 9,
     "metadata": {},
     "output_type": "execute_result"
    }
   ],
   "source": [
    "training_set.class_indices #get the classes from the training set"
   ]
  },
  {
   "cell_type": "code",
   "execution_count": 10,
   "metadata": {},
   "outputs": [
    {
     "name": "stdout",
     "output_type": "stream",
     "text": [
      "The digit is:  0\n"
     ]
    }
   ],
   "source": [
    "#To get which digit it is we can use:\n",
    "\n",
    "print(\"The digit is: \",training_set.class_indices[f\"{result[0]}\"])"
   ]
  }
 ],
 "metadata": {
  "kernelspec": {
   "display_name": "Python 3",
   "language": "python3",
   "name": "python3"
  },
  "language_info": {
   "codemirror_mode": {
    "name": "ipython",
    "version": 3
   },
   "file_extension": ".py",
   "mimetype": "text/x-python",
   "name": "python",
   "nbconvert_exporter": "python",
   "pygments_lexer": "ipython3",
   "version": "3.7.5"
  }
 },
 "nbformat": 4,
 "nbformat_minor": 2
}
